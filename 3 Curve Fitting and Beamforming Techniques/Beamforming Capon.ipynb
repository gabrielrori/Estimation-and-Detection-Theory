{
 "cells": [
  {
   "cell_type": "markdown",
   "id": "virtual-passport",
   "metadata": {},
   "source": "# Beamforming - Capon method"
  },
  {
   "cell_type": "code",
   "execution_count": 145,
   "id": "strong-difficulty",
   "metadata": {},
   "outputs": [],
   "source": [
    "import numpy as np\n",
    "import matplotlib.pyplot as plt\n",
    "import scipy.stats as stats\n",
    "%matplotlib inline\n",
    "#plt.rcParams['font.size'] = '10'"
   ]
  },
  {
   "cell_type": "code",
   "execution_count": 146,
   "id": "prepared-stroke",
   "metadata": {},
   "outputs": [],
   "source": [
    "# Arreglo de receptores\n",
    "lamb = 6\n",
    "k = 2*np.pi/lamb\n",
    "dx = 2\n",
    "Nr = 16\n",
    "d = dx * np.arange(Nr)\n",
    "\n",
    "# Target 1:\n",
    "phi1 = 25 * np.pi/180\n",
    "P1 = 10\n",
    "S1 = np.sqrt(P1)*np.exp(1j*k*d*np.sin(phi1))\n",
    "\n",
    "# Target 2:\n",
    "phi2 = -45 * np.pi/180\n",
    "P2 = 5\n",
    "S2 = np.sqrt(P2)*np.exp(1j*k*d*np.sin(phi2))\n",
    "\n",
    "# Estimando la matriz de covarianza de x\n",
    "N = 1000\n",
    "Cx = 0\n",
    "for n in range(N):\n",
    "    w = (np.random.randn(Nr) + 1j*np.random.randn(Nr))/np.sqrt(2)\n",
    "    x = S1 + S2 + w\n",
    "    x = np.reshape(x,[Nr,1])\n",
    "    Cx += x@np.conj(x.T)\n",
    "Cx = Cx/N\n",
    "Cx_1 = np.linalg.inv(Cx)\n",
    "#print(Cx)"
   ]
  },
  {
   "cell_type": "code",
   "execution_count": 147,
   "id": "detected-jumping",
   "metadata": {},
   "outputs": [],
   "source": [
    "# Calculando la potencia para diferentes ángulos\n",
    "Na = 180\n",
    "ang = np.arange(Na) - Na/2\n",
    "B = np.zeros(Na)\n",
    "\n",
    "for n in range(Na):\n",
    "    phi = ang[n] * np.pi/180\n",
    "    h = np.exp(1j*k*d*np.sin(phi))\n",
    "    B[n] = 1/np.real(np.conj(h.T)@Cx_1@h)\n",
    "    "
   ]
  },
  {
   "cell_type": "code",
   "execution_count": 148,
   "id": "minute-clinton",
   "metadata": {},
   "outputs": [
    {
     "data": {
      "text/plain": [
       "Text(0.5, 0, 'Angle [deg]')"
      ]
     },
     "execution_count": 148,
     "metadata": {},
     "output_type": "execute_result"
    },
    {
     "data": {
      "image/png": "[encoded data removed]",
      "text/plain": [
       "<Figure size 432x288 with 1 Axes>"
      ]
     },
     "metadata": {
      "needs_background": "light"
     },
     "output_type": "display_data"
    }
   ],
   "source": [
    "# Graficando el patrón\n",
    "plt.figure()\n",
    "plt.plot(ang,B)\n",
    "plt.grid('on')\n",
    "plt.xlabel('Angle [deg]')"
   ]
  },
  {
   "cell_type": "code",
   "execution_count": null,
   "id": "bizarre-laugh",
   "metadata": {},
   "outputs": [],
   "source": []
  }
 ],
 "metadata": {
  "kernelspec": {
   "display_name": "Python 3",
   "language": "python",
   "name": "python3"
  },
  "language_info": {
   "codemirror_mode": {
    "name": "ipython",
    "version": 3
   },
   "file_extension": ".py",
   "mimetype": "text/x-python",
   "name": "python",
   "nbconvert_exporter": "python",
   "pygments_lexer": "ipython3",
   "version": "3.9.1"
  }
 },
 "nbformat": 4,
 "nbformat_minor": 5
}
