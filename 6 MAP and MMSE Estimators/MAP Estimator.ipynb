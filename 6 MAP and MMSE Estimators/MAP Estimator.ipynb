{
 "cells": [
  {
   "cell_type": "markdown",
   "id": "hollow-appliance",
   "metadata": {},
   "source": "# MAP estimator (Bayesian estimation)"
  },
  {
   "cell_type": "code",
   "execution_count": 68,
   "id": "embedded-winter",
   "metadata": {},
   "outputs": [],
   "source": [
    "import numpy as np\n",
    "import matplotlib.pyplot as plt\n",
    "%matplotlib inline\n",
    "#plt.rcParams['font.size'] = '10'"
   ]
  },
  {
   "cell_type": "markdown",
   "id": "sufficient-method",
   "metadata": {},
   "source": [
    "## Uniform prior\n",
    "Consider the linear model $x[n]=A+w[n]$ with $w[n]\\sim \\mathcal{N}(0,\\sigma^2)$ and prior $A \\sim \\mathcal{U}(-A_o,A_o)$."
   ]
  },
  {
   "cell_type": "code",
   "execution_count": 77,
   "id": "selected-chinese",
   "metadata": {},
   "outputs": [],
   "source": [
    "# Linear model\n",
    "N = 4\n",
    "A = 5\n",
    "sigma = 2\n",
    "wn = sigma*np.random.randn(N)\n",
    "xn = A + wn\n",
    "\n",
    "# Prior Uniform distribution\n",
    "A_o = 6"
   ]
  },
  {
   "cell_type": "code",
   "execution_count": 78,
   "id": "serious-great",
   "metadata": {},
   "outputs": [
    {
     "data": {
      "image/png": "[encoded data removed]",
      "text/plain": [
       "<Figure size 576x288 with 1 Axes>"
      ]
     },
     "metadata": {
      "needs_background": "light"
     },
     "output_type": "display_data"
    }
   ],
   "source": [
    "# Plotting data\n",
    "plt.figure(figsize=[8,4])\n",
    "plt.plot(xn,'o')\n",
    "plt.plot([0,N-1],[A,A],'--')\n",
    "plt.grid('on')\n",
    "plt.xlabel('$n$')\n",
    "plt.ylabel('$x[n]$')\n",
    "plt.legend(['Data','True Model']);"
   ]
  },
  {
   "cell_type": "code",
   "execution_count": 79,
   "id": "resistant-panic",
   "metadata": {},
   "outputs": [
    {
     "data": {
      "image/png": "[encoded data removed]",
      "text/plain": [
       "<Figure size 432x288 with 1 Axes>"
      ]
     },
     "metadata": {
      "needs_background": "light"
     },
     "output_type": "display_data"
    }
   ],
   "source": [
    "# A posteriori PDF\n",
    "NA = 2001\n",
    "Am = np.linspace(-10,10,num=NA)\n",
    "dA = (Am[NA-1]-Am[0])/(NA-1)\n",
    "pxA = np.zeros(NA)\n",
    "for m in range(NA):\n",
    "    pxA[m] = np.exp(-np.sum((xn-Am[m])**2)/(2*sigma**2))\n",
    "pA = 1*(np.abs(Am)<A_o) / (2*A_o)\n",
    "pAx = pxA*pA / (np.sum(pxA*pA)*dA)\n",
    "\n",
    "# Plotting A posteriori PDF\n",
    "\n",
    "plt.figure()\n",
    "plt.plot(Am,pAx)\n",
    "plt.xlabel('A')\n",
    "plt.ylabel('$p(A|\\mathbf{x})$')\n",
    "plt.grid('on')"
   ]
  },
  {
   "cell_type": "code",
   "execution_count": 80,
   "id": "focal-thanksgiving",
   "metadata": {
    "scrolled": true
   },
   "outputs": [
    {
     "name": "stdout",
     "output_type": "stream",
     "text": [
      "Numerically computed MAP\n",
      "Estimated parameter: 5.0600000000000005\n",
      "MAP squared error: 0.0036000000000000597\n",
      "Numerically computed MMSE\n",
      "Estimated MMSE parameter: 4.7499701611164795\n",
      "Bayesian MSE: 0.6093780400525494\n"
     ]
    }
   ],
   "source": [
    "# Calculating the MMSE estimator\n",
    "A_map = Am[np.argmax(pAx)]\n",
    "\n",
    "print('Numerically computed MAP')\n",
    "print('Estimated parameter:',A_map)\n",
    "print('MAP squared error:',(A_map-A)**2)\n",
    "\n",
    "# Calculating the MMSE estimator\n",
    "A_mmse = np.sum(Am*pAx)*dA\n",
    "b_mmse = np.sum((Am-A_mmse)**2*pAx)*dA\n",
    "\n",
    "print('Numerically computed MMSE')\n",
    "print('Estimated MMSE parameter:',A_mmse)\n",
    "print('Bayesian MSE:',b_mmse)\n"
   ]
  },
  {
   "cell_type": "code",
   "execution_count": null,
   "id": "minimal-legend",
   "metadata": {},
   "outputs": [],
   "source": []
  },
  {
   "cell_type": "code",
   "execution_count": null,
   "id": "smart-wrapping",
   "metadata": {},
   "outputs": [],
   "source": []
  }
 ],
 "metadata": {
  "kernelspec": {
   "display_name": "Python 3",
   "language": "python",
   "name": "python3"
  },
  "language_info": {
   "codemirror_mode": {
    "name": "ipython",
    "version": 3
   },
   "file_extension": ".py",
   "mimetype": "text/x-python",
   "name": "python",
   "nbconvert_exporter": "python",
   "pygments_lexer": "ipython3",
   "version": "3.9.1"
  }
 },
 "nbformat": 4,
 "nbformat_minor": 5
}
