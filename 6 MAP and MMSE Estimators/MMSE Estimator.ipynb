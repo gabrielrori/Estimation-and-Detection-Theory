{
 "cells": [
  {
   "cell_type": "markdown",
   "id": "hollow-appliance",
   "metadata": {},
   "source": "# MMSE estimator (Bayesian estimation)"
  },
  {
   "cell_type": "code",
   "execution_count": 40,
   "id": "embedded-winter",
   "metadata": {},
   "outputs": [],
   "source": [
    "import numpy as np\n",
    "import matplotlib.pyplot as plt\n",
    "%matplotlib inline\n",
    "#plt.rcParams['font.size'] = '10'"
   ]
  },
  {
   "cell_type": "markdown",
   "id": "sufficient-method",
   "metadata": {},
   "source": [
    "## Gaussian prior\n",
    "Consider the linear model $x[n]=A+w[n]$ with $w[n]\\sim \\mathcal{N}(0,\\sigma^2)$ and prior $A \\sim \\mathcal{N}(\\mu_A,\\sigma_A^2)$."
   ]
  },
  {
   "cell_type": "code",
   "execution_count": 161,
   "id": "selected-chinese",
   "metadata": {},
   "outputs": [],
   "source": [
    "# Linear model\n",
    "N = 10\n",
    "A = 5\n",
    "sigma = 2\n",
    "wn = sigma*np.random.randn(N)\n",
    "xn = A + wn\n",
    "\n",
    "# Prior\n",
    "mu_A = 0\n",
    "sigma_A = 10"
   ]
  },
  {
   "cell_type": "code",
   "execution_count": 162,
   "id": "serious-great",
   "metadata": {},
   "outputs": [
    {
     "data": {
      "image/png": "[encoded data removed]",
      "text/plain": [
       "<Figure size 576x288 with 1 Axes>"
      ]
     },
     "metadata": {
      "needs_background": "light"
     },
     "output_type": "display_data"
    }
   ],
   "source": [
    "# Plotting data\n",
    "plt.figure(figsize=[8,4])\n",
    "plt.plot(xn,'o')\n",
    "plt.plot([0,N-1],[A,A],'--')\n",
    "plt.grid('on')\n",
    "plt.xlabel('$n$')\n",
    "plt.ylabel('$x[n]$')\n",
    "plt.legend(['Data','True Model']);"
   ]
  },
  {
   "cell_type": "code",
   "execution_count": 163,
   "id": "corporate-native",
   "metadata": {},
   "outputs": [
    {
     "data": {
      "image/png": "[encoded data removed]",
      "text/plain": [
       "<Figure size 432x288 with 1 Axes>"
      ]
     },
     "metadata": {
      "needs_background": "light"
     },
     "output_type": "display_data"
    }
   ],
   "source": [
    "# A posteriori PDF\n",
    "NA = 1001\n",
    "Am = np.linspace(-10,10,num=NA)\n",
    "dA = (Am[NA-1]-Am[0])/(NA-1)\n",
    "pxA = np.zeros(NA)\n",
    "for m in range(NA):\n",
    "    pxA[m] = np.exp(-np.sum((xn-Am[m])**2)/(2*sigma**2))\n",
    "pA = np.exp(-(Am-mu_A)**2/(2*sigma_A**2))\n",
    "pAx = pxA*pA / (np.sum(pxA*pA)*dA)\n",
    "\n",
    "# Plotting A posteriori PDF\n",
    "\n",
    "plt.figure()\n",
    "plt.plot(Am,pAx)\n",
    "plt.xlabel('A')\n",
    "plt.ylabel('$p(A|\\mathbf{x})$')\n",
    "plt.grid('on')"
   ]
  },
  {
   "cell_type": "code",
   "execution_count": 164,
   "id": "focal-thanksgiving",
   "metadata": {
    "scrolled": true
   },
   "outputs": [
    {
     "name": "stdout",
     "output_type": "stream",
     "text": [
      "Numerically computed parameters\n",
      "Estimated parameter: -5.045194232158834\n",
      "Bayesian MSE: 0.39840637450194627\n",
      "Analytical parameters\n",
      "Estimated parameter: -5.0451942321588445\n",
      "Bayesian MSE: 0.39840637450199207\n"
     ]
    }
   ],
   "source": [
    "# Calculating the MMSE estimator\n",
    "A_mmse = np.sum(Am*pAx)*dA\n",
    "b_mmse = np.sum((Am-A_mmse)**2*pAx)*dA\n",
    "\n",
    "print('Numerically computed parameters')\n",
    "print('Estimated parameter:',A_mmse)\n",
    "print('Bayesian MSE:',b_mmse)\n",
    "\n",
    "# Applying formula\n",
    "s2_Ax = 1/(N/sigma**2+1/sigma_A**2)\n",
    "mu_Ax = (N/sigma**2*np.mean(xn)+mu_A/sigma_A**2)*s2_Ax\n",
    "\n",
    "print('Analytical parameters')\n",
    "print('Estimated parameter:',mu_Ax)\n",
    "print('Bayesian MSE:',s2_Ax)\n"
   ]
  },
  {
   "cell_type": "code",
   "execution_count": null,
   "id": "minimal-legend",
   "metadata": {},
   "outputs": [],
   "source": []
  },
  {
   "cell_type": "code",
   "execution_count": null,
   "id": "smart-wrapping",
   "metadata": {},
   "outputs": [],
   "source": []
  }
 ],
 "metadata": {
  "kernelspec": {
   "display_name": "Python 3",
   "language": "python",
   "name": "python3"
  },
  "language_info": {
   "codemirror_mode": {
    "name": "ipython",
    "version": 3
   },
   "file_extension": ".py",
   "mimetype": "text/x-python",
   "name": "python",
   "nbconvert_exporter": "python",
   "pygments_lexer": "ipython3",
   "version": "3.9.1"
  }
 },
 "nbformat": 4,
 "nbformat_minor": 5
}
