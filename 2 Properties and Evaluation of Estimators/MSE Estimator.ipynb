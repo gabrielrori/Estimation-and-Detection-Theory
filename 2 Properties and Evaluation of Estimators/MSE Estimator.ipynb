{
 "cells": [
  {
   "cell_type": "markdown",
   "id": "dimensional-vacuum",
   "metadata": {},
   "source": "# MSE Estimator"
  },
  {
   "cell_type": "code",
   "execution_count": 1,
   "id": "numeric-pitch",
   "metadata": {},
   "outputs": [],
   "source": [
    "import numpy as np\n",
    "import matplotlib.pyplot as plt\n",
    "%matplotlib inline\n",
    "#plt.rcParams['font.size'] = '10'"
   ]
  },
  {
   "cell_type": "markdown",
   "id": "mechanical-excess",
   "metadata": {},
   "source": [
    "Consider a DC level in additive Gaussian white noise, <br>\n",
    "$$x[n] = \\theta + w[n], \\quad n=0,1,\\dots,N-1.$$\n",
    "\n",
    "We can propose the following estimators: <br>\n",
    "$\\hat{\\theta}_1 = x[0]$ <br>\n",
    "$\\hat{\\theta}_2 = \\frac{1}{N}\\sum_{n=0}^{N-1}x[n]$ <br>\n",
    "$\\hat{\\theta}_3 = \\frac{a}{N}\\sum_{n=0}^{N-1}x[n]$ <br>\n",
    "<br>\n",
    "Computing their MSE, we have <br>\n",
    "$\\mathrm{MSE}(\\hat{\\theta}_1) = \\sigma^2$ <br>\n",
    "$\\mathrm{MSE}(\\hat{\\theta}_2) = \\frac{\\sigma^2}{N}$ <br>\n",
    "$\\mathrm{MSE}(\\hat{\\theta}_3) = \\frac{a^2\\sigma^2}{N} + (a-1)^2\\theta^2$ <br>\n",
    "where $a_{\\mathrm{opt}}=\\frac{\\theta^2}{\\theta^2+\\sigma^2/N}$"
   ]
  },
  {
   "cell_type": "code",
   "execution_count": 2,
   "id": "foster-waterproof",
   "metadata": {},
   "outputs": [],
   "source": [
    "N = 2\n",
    "sigma = 2\n",
    "\n",
    "Nth = 100\n",
    "th = np.linspace(-5,5,Nth)\n",
    "\n",
    "MSE1 = sigma**2 * np.ones(Nth)\n",
    "MSE2 = sigma**2 / N * np.ones(Nth)\n",
    "\n",
    "aopt = th**2 / (th**2 + sigma**2/N)\n",
    "MSE3 = aopt**2*sigma**2/N + (aopt-1)**2*th**2"
   ]
  },
  {
   "cell_type": "code",
   "execution_count": 4,
   "id": "beneficial-france",
   "metadata": {},
   "outputs": [
    {
     "data": {
      "text/plain": [
       "<matplotlib.legend.Legend at 0x11632cbe0>"
      ]
     },
     "execution_count": 4,
     "metadata": {},
     "output_type": "execute_result"
    },
    {
     "data": {
      "image/png": "[encoded data removed]",
      "text/plain": [
       "<Figure size 432x288 with 1 Axes>"
      ]
     },
     "metadata": {
      "needs_background": "light"
     },
     "output_type": "display_data"
    }
   ],
   "source": [
    "plt.figure()\n",
    "plt.plot(th,MSE1)\n",
    "plt.plot(th,MSE2)\n",
    "plt.plot(th,MSE3)\n",
    "plt.xlabel('$\\\\theta$')\n",
    "plt.ylabel('MSE($\\hat{\\\\theta}$)')\n",
    "plt.grid('on')\n",
    "plt.legend(['$\\hat{\\\\theta_1}$','$\\hat{\\\\theta_2}$','$\\hat{\\\\theta_3}$'])"
   ]
  },
  {
   "cell_type": "code",
   "execution_count": null,
   "id": "varying-chest",
   "metadata": {},
   "outputs": [],
   "source": []
  }
 ],
 "metadata": {
  "kernelspec": {
   "display_name": "Python 3",
   "language": "python",
   "name": "python3"
  },
  "language_info": {
   "codemirror_mode": {
    "name": "ipython",
    "version": 3
   },
   "file_extension": ".py",
   "mimetype": "text/x-python",
   "name": "python",
   "nbconvert_exporter": "python",
   "pygments_lexer": "ipython3",
   "version": "3.9.1"
  }
 },
 "nbformat": 4,
 "nbformat_minor": 5
}
